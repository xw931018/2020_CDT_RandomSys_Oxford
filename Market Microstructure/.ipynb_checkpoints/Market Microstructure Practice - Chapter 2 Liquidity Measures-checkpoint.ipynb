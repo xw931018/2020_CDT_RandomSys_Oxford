{
 "cells": [
  {
   "cell_type": "code",
   "execution_count": 1,
   "metadata": {},
   "outputs": [],
   "source": [
    "import numpy as np\n",
    "import pandas as pd\n",
    "import datetime as dt"
   ]
  },
  {
   "cell_type": "code",
   "execution_count": 2,
   "metadata": {},
   "outputs": [],
   "source": [
    "dataAGF  = pd.read_excel('Data_Sets_Chapter_2_data_AGF.xls', header = 1)\n",
    "dataKris = pd.read_excel('Data_Sets_Chapter_2_data_KrispyKreme.xls', header = 1)\n",
    "dataKK   = pd.read_excel('Data_Sets_Chapter_2_raw data_KrispyKreme.xls', header = 1)"
   ]
  },
  {
   "cell_type": "code",
   "execution_count": 3,
   "metadata": {},
   "outputs": [],
   "source": [
    "dataAGF.rename(columns = \n",
    "               lambda x:x.replace(' (pt)', '').replace(' (|qt|)', '').replace(' (bt)', '').replace(' (at)', '').replace(' (dt)', '').replace('(bt)', '').strip(), \n",
    "               inplace = True)\n",
    "dataKris.rename(columns = \n",
    "               lambda x:x.replace(' (pt)', '').replace(' (|qt|)', '').replace(' (bt)', '').replace(' (at)', '').replace(' (dt)', '').replace('(bt)', '').strip(), \n",
    "               inplace = True)\n",
    "dataKK.rename(columns = \n",
    "               lambda x:x.replace(' (pt)', '').replace(' (|qt|)', '').replace(' (bt)', '').replace(' (at)', '').replace(' (dt)', '').replace('(bt)', '').strip(), \n",
    "               inplace = True)"
   ]
  },
  {
   "cell_type": "markdown",
   "metadata": {},
   "source": [
    "# Exercise1: AGF Spreads"
   ]
  },
  {
   "cell_type": "code",
   "execution_count": 4,
   "metadata": {},
   "outputs": [],
   "source": [
    "timeRef = dt.time(9, 0, 0)"
   ]
  },
  {
   "cell_type": "code",
   "execution_count": 5,
   "metadata": {},
   "outputs": [],
   "source": [
    "def calcTimeInterval(time, timeRef = timeRef, interval = 30):\n",
    "    return int(((time.hour * 60 + time.minute) - (timeRef.hour * 60 + timeRef.minute))/interval)\n",
    "\n",
    "def addSpreads(df):\n",
    "    df['Quoted_Spread'] = df['Ask'] - df['Bid']\n",
    "    df['MidPrice'] = (df['Ask'] + df['Bid'])/2\n",
    "    df['Relative_Spread'] = df['Quoted_Spread']/df['MidPrice']\n",
    "    df['log_Spread'] = np.log(df['Ask']/df['Bid'])\n",
    "    \n",
    "    df['Quoted_Half_Spread'] = df['Quoted_Spread']/2\n",
    "    \n",
    "    if 'Direction' in df.columns:\n",
    "        df['Effective_Spread'] = (df['Price'] - df['MidPrice']) * df['Direction']\n",
    "    \n",
    "    return df"
   ]
  },
  {
   "cell_type": "code",
   "execution_count": 6,
   "metadata": {},
   "outputs": [],
   "source": [
    "dataAGF_Processed = addSpreads(dataAGF)\n",
    "dataAGF_Processed['TimeInterval'] = dataAGF_Processed['Time'].apply(lambda x:calcTimeInterval(x, timeRef))\n",
    "dataAGF_Processed.set_index('Time', inplace = True)"
   ]
  },
  {
   "cell_type": "code",
   "execution_count": 7,
   "metadata": {},
   "outputs": [
    {
     "data": {
      "text/html": [
       "<div>\n",
       "<style scoped>\n",
       "    .dataframe tbody tr th:only-of-type {\n",
       "        vertical-align: middle;\n",
       "    }\n",
       "\n",
       "    .dataframe tbody tr th {\n",
       "        vertical-align: top;\n",
       "    }\n",
       "\n",
       "    .dataframe thead th {\n",
       "        text-align: right;\n",
       "    }\n",
       "</style>\n",
       "<table border=\"1\" class=\"dataframe\">\n",
       "  <thead>\n",
       "    <tr style=\"text-align: right;\">\n",
       "      <th></th>\n",
       "      <th>Trade Size</th>\n",
       "      <th>Price</th>\n",
       "      <th>Direction</th>\n",
       "      <th>Bid</th>\n",
       "      <th>Ask</th>\n",
       "      <th>Quoted_Spread</th>\n",
       "      <th>MidPrice</th>\n",
       "      <th>Relative_Spread</th>\n",
       "      <th>log_Spread</th>\n",
       "      <th>Quoted_Half_Spread</th>\n",
       "      <th>Effective_Spread</th>\n",
       "      <th>TimeInterval</th>\n",
       "    </tr>\n",
       "    <tr>\n",
       "      <th>Time</th>\n",
       "      <th></th>\n",
       "      <th></th>\n",
       "      <th></th>\n",
       "      <th></th>\n",
       "      <th></th>\n",
       "      <th></th>\n",
       "      <th></th>\n",
       "      <th></th>\n",
       "      <th></th>\n",
       "      <th></th>\n",
       "      <th></th>\n",
       "      <th></th>\n",
       "    </tr>\n",
       "  </thead>\n",
       "  <tbody>\n",
       "    <tr>\n",
       "      <th>09:06:04</th>\n",
       "      <td>20</td>\n",
       "      <td>66.7000</td>\n",
       "      <td>-1</td>\n",
       "      <td>66.90</td>\n",
       "      <td>67.00</td>\n",
       "      <td>0.10</td>\n",
       "      <td>66.950</td>\n",
       "      <td>0.001494</td>\n",
       "      <td>0.001494</td>\n",
       "      <td>0.050</td>\n",
       "      <td>0.2500</td>\n",
       "      <td>0</td>\n",
       "    </tr>\n",
       "    <tr>\n",
       "      <th>09:06:11</th>\n",
       "      <td>25</td>\n",
       "      <td>66.6360</td>\n",
       "      <td>-1</td>\n",
       "      <td>66.65</td>\n",
       "      <td>66.70</td>\n",
       "      <td>0.05</td>\n",
       "      <td>66.675</td>\n",
       "      <td>0.000750</td>\n",
       "      <td>0.000750</td>\n",
       "      <td>0.025</td>\n",
       "      <td>0.0390</td>\n",
       "      <td>0</td>\n",
       "    </tr>\n",
       "    <tr>\n",
       "      <th>09:06:26</th>\n",
       "      <td>18</td>\n",
       "      <td>66.6000</td>\n",
       "      <td>-1</td>\n",
       "      <td>66.60</td>\n",
       "      <td>66.65</td>\n",
       "      <td>0.05</td>\n",
       "      <td>66.625</td>\n",
       "      <td>0.000750</td>\n",
       "      <td>0.000750</td>\n",
       "      <td>0.025</td>\n",
       "      <td>0.0250</td>\n",
       "      <td>0</td>\n",
       "    </tr>\n",
       "    <tr>\n",
       "      <th>09:07:18</th>\n",
       "      <td>273</td>\n",
       "      <td>66.4163</td>\n",
       "      <td>-1</td>\n",
       "      <td>66.50</td>\n",
       "      <td>66.55</td>\n",
       "      <td>0.05</td>\n",
       "      <td>66.525</td>\n",
       "      <td>0.000752</td>\n",
       "      <td>0.000752</td>\n",
       "      <td>0.025</td>\n",
       "      <td>0.1087</td>\n",
       "      <td>0</td>\n",
       "    </tr>\n",
       "    <tr>\n",
       "      <th>09:07:36</th>\n",
       "      <td>27</td>\n",
       "      <td>66.5500</td>\n",
       "      <td>1</td>\n",
       "      <td>66.15</td>\n",
       "      <td>66.55</td>\n",
       "      <td>0.40</td>\n",
       "      <td>66.350</td>\n",
       "      <td>0.006029</td>\n",
       "      <td>0.006029</td>\n",
       "      <td>0.200</td>\n",
       "      <td>0.2000</td>\n",
       "      <td>0</td>\n",
       "    </tr>\n",
       "  </tbody>\n",
       "</table>\n",
       "</div>"
      ],
      "text/plain": [
       "          Trade Size    Price  Direction    Bid    Ask  Quoted_Spread  \\\n",
       "Time                                                                    \n",
       "09:06:04          20  66.7000         -1  66.90  67.00           0.10   \n",
       "09:06:11          25  66.6360         -1  66.65  66.70           0.05   \n",
       "09:06:26          18  66.6000         -1  66.60  66.65           0.05   \n",
       "09:07:18         273  66.4163         -1  66.50  66.55           0.05   \n",
       "09:07:36          27  66.5500          1  66.15  66.55           0.40   \n",
       "\n",
       "          MidPrice  Relative_Spread  log_Spread  Quoted_Half_Spread  \\\n",
       "Time                                                                  \n",
       "09:06:04    66.950         0.001494    0.001494               0.050   \n",
       "09:06:11    66.675         0.000750    0.000750               0.025   \n",
       "09:06:26    66.625         0.000750    0.000750               0.025   \n",
       "09:07:18    66.525         0.000752    0.000752               0.025   \n",
       "09:07:36    66.350         0.006029    0.006029               0.200   \n",
       "\n",
       "          Effective_Spread  TimeInterval  \n",
       "Time                                      \n",
       "09:06:04            0.2500             0  \n",
       "09:06:11            0.0390             0  \n",
       "09:06:26            0.0250             0  \n",
       "09:07:18            0.1087             0  \n",
       "09:07:36            0.2000             0  "
      ]
     },
     "execution_count": 7,
     "metadata": {},
     "output_type": "execute_result"
    }
   ],
   "source": [
    "dataAGF_Processed.head()"
   ]
  },
  {
   "cell_type": "code",
   "execution_count": 8,
   "metadata": {},
   "outputs": [
    {
     "data": {
      "text/plain": [
       "<matplotlib.axes._subplots.AxesSubplot at 0x7fdef20dbe20>"
      ]
     },
     "execution_count": 8,
     "metadata": {},
     "output_type": "execute_result"
    },
    {
     "data": {
      "image/png": "[encoded data removed]",
      "text/plain": [
       "<Figure size 432x288 with 1 Axes>"
      ]
     },
     "metadata": {
      "needs_background": "light"
     },
     "output_type": "display_data"
    }
   ],
   "source": [
    "dataAGF_Processed[['Quoted_Half_Spread', 'Effective_Spread']].plot.scatter('Quoted_Half_Spread', 'Effective_Spread')"
   ]
  },
  {
   "cell_type": "code",
   "execution_count": 9,
   "metadata": {},
   "outputs": [
    {
     "data": {
      "text/plain": [
       "<matplotlib.axes._subplots.AxesSubplot at 0x7fdeb0716cd0>"
      ]
     },
     "execution_count": 9,
     "metadata": {},
     "output_type": "execute_result"
    },
    {
     "data": {
      "image/png": "[encoded data removed]",
      "text/plain": [
       "<Figure size 432x288 with 1 Axes>"
      ]
     },
     "metadata": {
      "needs_background": "light"
     },
     "output_type": "display_data"
    }
   ],
   "source": [
    "dataAGF_Processed[['Quoted_Half_Spread', 'Effective_Spread']].plot()"
   ]
  },
  {
   "cell_type": "markdown",
   "metadata": {},
   "source": [
    "Effective spreae is sometimes higher than quoted half spread, due to adverse market move after a trade execution"
   ]
  },
  {
   "cell_type": "markdown",
   "metadata": {},
   "source": [
    "##### Quoted spread average"
   ]
  },
  {
   "cell_type": "code",
   "execution_count": 10,
   "metadata": {},
   "outputs": [
    {
     "data": {
      "text/html": [
       "<div>\n",
       "<style scoped>\n",
       "    .dataframe tbody tr th:only-of-type {\n",
       "        vertical-align: middle;\n",
       "    }\n",
       "\n",
       "    .dataframe tbody tr th {\n",
       "        vertical-align: top;\n",
       "    }\n",
       "\n",
       "    .dataframe thead th {\n",
       "        text-align: right;\n",
       "    }\n",
       "</style>\n",
       "<table border=\"1\" class=\"dataframe\">\n",
       "  <thead>\n",
       "    <tr style=\"text-align: right;\">\n",
       "      <th></th>\n",
       "      <th>Trade Size</th>\n",
       "      <th>Price</th>\n",
       "      <th>Direction</th>\n",
       "      <th>Bid</th>\n",
       "      <th>Ask</th>\n",
       "      <th>Quoted_Spread</th>\n",
       "      <th>MidPrice</th>\n",
       "      <th>Relative_Spread</th>\n",
       "      <th>log_Spread</th>\n",
       "      <th>Quoted_Half_Spread</th>\n",
       "      <th>Effective_Spread</th>\n",
       "      <th>TimeInterval</th>\n",
       "    </tr>\n",
       "    <tr>\n",
       "      <th>Time</th>\n",
       "      <th></th>\n",
       "      <th></th>\n",
       "      <th></th>\n",
       "      <th></th>\n",
       "      <th></th>\n",
       "      <th></th>\n",
       "      <th></th>\n",
       "      <th></th>\n",
       "      <th></th>\n",
       "      <th></th>\n",
       "      <th></th>\n",
       "      <th></th>\n",
       "    </tr>\n",
       "  </thead>\n",
       "  <tbody>\n",
       "    <tr>\n",
       "      <th>09:06:04</th>\n",
       "      <td>20</td>\n",
       "      <td>66.7000</td>\n",
       "      <td>-1</td>\n",
       "      <td>66.90</td>\n",
       "      <td>67.00</td>\n",
       "      <td>0.10</td>\n",
       "      <td>66.950</td>\n",
       "      <td>0.001494</td>\n",
       "      <td>0.001494</td>\n",
       "      <td>0.050</td>\n",
       "      <td>0.2500</td>\n",
       "      <td>0</td>\n",
       "    </tr>\n",
       "    <tr>\n",
       "      <th>09:06:11</th>\n",
       "      <td>25</td>\n",
       "      <td>66.6360</td>\n",
       "      <td>-1</td>\n",
       "      <td>66.65</td>\n",
       "      <td>66.70</td>\n",
       "      <td>0.05</td>\n",
       "      <td>66.675</td>\n",
       "      <td>0.000750</td>\n",
       "      <td>0.000750</td>\n",
       "      <td>0.025</td>\n",
       "      <td>0.0390</td>\n",
       "      <td>0</td>\n",
       "    </tr>\n",
       "    <tr>\n",
       "      <th>09:06:26</th>\n",
       "      <td>18</td>\n",
       "      <td>66.6000</td>\n",
       "      <td>-1</td>\n",
       "      <td>66.60</td>\n",
       "      <td>66.65</td>\n",
       "      <td>0.05</td>\n",
       "      <td>66.625</td>\n",
       "      <td>0.000750</td>\n",
       "      <td>0.000750</td>\n",
       "      <td>0.025</td>\n",
       "      <td>0.0250</td>\n",
       "      <td>0</td>\n",
       "    </tr>\n",
       "    <tr>\n",
       "      <th>09:07:18</th>\n",
       "      <td>273</td>\n",
       "      <td>66.4163</td>\n",
       "      <td>-1</td>\n",
       "      <td>66.50</td>\n",
       "      <td>66.55</td>\n",
       "      <td>0.05</td>\n",
       "      <td>66.525</td>\n",
       "      <td>0.000752</td>\n",
       "      <td>0.000752</td>\n",
       "      <td>0.025</td>\n",
       "      <td>0.1087</td>\n",
       "      <td>0</td>\n",
       "    </tr>\n",
       "    <tr>\n",
       "      <th>09:07:36</th>\n",
       "      <td>27</td>\n",
       "      <td>66.5500</td>\n",
       "      <td>1</td>\n",
       "      <td>66.15</td>\n",
       "      <td>66.55</td>\n",
       "      <td>0.40</td>\n",
       "      <td>66.350</td>\n",
       "      <td>0.006029</td>\n",
       "      <td>0.006029</td>\n",
       "      <td>0.200</td>\n",
       "      <td>0.2000</td>\n",
       "      <td>0</td>\n",
       "    </tr>\n",
       "  </tbody>\n",
       "</table>\n",
       "</div>"
      ],
      "text/plain": [
       "          Trade Size    Price  Direction    Bid    Ask  Quoted_Spread  \\\n",
       "Time                                                                    \n",
       "09:06:04          20  66.7000         -1  66.90  67.00           0.10   \n",
       "09:06:11          25  66.6360         -1  66.65  66.70           0.05   \n",
       "09:06:26          18  66.6000         -1  66.60  66.65           0.05   \n",
       "09:07:18         273  66.4163         -1  66.50  66.55           0.05   \n",
       "09:07:36          27  66.5500          1  66.15  66.55           0.40   \n",
       "\n",
       "          MidPrice  Relative_Spread  log_Spread  Quoted_Half_Spread  \\\n",
       "Time                                                                  \n",
       "09:06:04    66.950         0.001494    0.001494               0.050   \n",
       "09:06:11    66.675         0.000750    0.000750               0.025   \n",
       "09:06:26    66.625         0.000750    0.000750               0.025   \n",
       "09:07:18    66.525         0.000752    0.000752               0.025   \n",
       "09:07:36    66.350         0.006029    0.006029               0.200   \n",
       "\n",
       "          Effective_Spread  TimeInterval  \n",
       "Time                                      \n",
       "09:06:04            0.2500             0  \n",
       "09:06:11            0.0390             0  \n",
       "09:06:26            0.0250             0  \n",
       "09:07:18            0.1087             0  \n",
       "09:07:36            0.2000             0  "
      ]
     },
     "execution_count": 10,
     "metadata": {},
     "output_type": "execute_result"
    }
   ],
   "source": [
    "dataAGF_Processed.head()"
   ]
  },
  {
   "cell_type": "code",
   "execution_count": 11,
   "metadata": {},
   "outputs": [
    {
     "data": {
      "text/plain": [
       "<matplotlib.axes._subplots.AxesSubplot at 0x7fdeb0760430>"
      ]
     },
     "execution_count": 11,
     "metadata": {},
     "output_type": "execute_result"
    },
    {
     "data": {
      "image/png": "[encoded data removed]",
      "text/plain": [
       "<Figure size 432x288 with 1 Axes>"
      ]
     },
     "metadata": {
      "needs_background": "light"
     },
     "output_type": "display_data"
    }
   ],
   "source": [
    "dataAGF_Processed.set_index('TimeInterval').Quoted_Spread.mean(level = 'TimeInterval').plot()"
   ]
  },
  {
   "cell_type": "code",
   "execution_count": 12,
   "metadata": {},
   "outputs": [
    {
     "data": {
      "text/plain": [
       "<matplotlib.axes._subplots.AxesSubplot at 0x7fdeb078b250>"
      ]
     },
     "execution_count": 12,
     "metadata": {},
     "output_type": "execute_result"
    },
    {
     "data": {
      "image/png": "[encoded data removed]",
      "text/plain": [
       "<Figure size 432x288 with 1 Axes>"
      ]
     },
     "metadata": {
      "needs_background": "light"
     },
     "output_type": "display_data"
    }
   ],
   "source": [
    "dataAGF_Processed.set_index('TimeInterval').Relative_Spread.mean(level = 'TimeInterval').plot()"
   ]
  },
  {
   "cell_type": "code",
   "execution_count": 13,
   "metadata": {},
   "outputs": [
    {
     "data": {
      "text/plain": [
       "<matplotlib.axes._subplots.AxesSubplot at 0x7fde90097370>"
      ]
     },
     "execution_count": 13,
     "metadata": {},
     "output_type": "execute_result"
    },
    {
     "data": {
      "image/png": "[encoded data removed]",
      "text/plain": [
       "<Figure size 432x288 with 1 Axes>"
      ]
     },
     "metadata": {
      "needs_background": "light"
     },
     "output_type": "display_data"
    }
   ],
   "source": [
    "dataAGF_Processed.set_index('TimeInterval').log_Spread.mean(level = 'TimeInterval').plot()"
   ]
  },
  {
   "cell_type": "markdown",
   "metadata": {},
   "source": [
    "##### VWAP prices"
   ]
  },
  {
   "cell_type": "code",
   "execution_count": 14,
   "metadata": {},
   "outputs": [],
   "source": [
    "def VWAP(df):\n",
    "    return (df.Price * df['Trade Size']).sum() / df['Trade Size'].sum()"
   ]
  },
  {
   "cell_type": "code",
   "execution_count": 15,
   "metadata": {},
   "outputs": [],
   "source": [
    "dataAGF_Processed_buyer  = dataAGF_Processed[dataAGF_Processed.Direction == 1]\n",
    "\n",
    "dataAGF_Processed_seller = dataAGF_Processed[dataAGF_Processed.Direction == -1]"
   ]
  },
  {
   "cell_type": "code",
   "execution_count": 16,
   "metadata": {},
   "outputs": [
    {
     "data": {
      "text/plain": [
       "(66.0926499559618, 65.88885986691075)"
      ]
     },
     "execution_count": 16,
     "metadata": {},
     "output_type": "execute_result"
    }
   ],
   "source": [
    "VWAP(dataAGF_Processed_buyer), VWAP(dataAGF_Processed_seller)"
   ]
  },
  {
   "cell_type": "markdown",
   "metadata": {},
   "source": [
    "9:00 - 12:00"
   ]
  },
  {
   "cell_type": "code",
   "execution_count": 17,
   "metadata": {},
   "outputs": [
    {
     "data": {
      "text/plain": [
       "(66.09206370221254, 65.90238640544808)"
      ]
     },
     "execution_count": 17,
     "metadata": {},
     "output_type": "execute_result"
    }
   ],
   "source": [
    "df_buy  = dataAGF_Processed_buyer[dataAGF_Processed_buyer.index < dt.time(12, 0, 0)]\n",
    "df_sell = dataAGF_Processed_seller[dataAGF_Processed_seller.index < dt.time(12, 0, 0)] \n",
    "\n",
    "VWAP(df_buy), VWAP(df_sell)"
   ]
  },
  {
   "cell_type": "markdown",
   "metadata": {},
   "source": [
    "12:00 - 15:00"
   ]
  },
  {
   "cell_type": "code",
   "execution_count": 18,
   "metadata": {},
   "outputs": [
    {
     "data": {
      "text/plain": [
       "(66.10385337566223, 65.99628722148495)"
      ]
     },
     "execution_count": 18,
     "metadata": {},
     "output_type": "execute_result"
    }
   ],
   "source": [
    "df_buy  = dataAGF_Processed_buyer[(dataAGF_Processed_buyer.index < dt.time(15, 0, 0)) & \n",
    "                                  (dataAGF_Processed_buyer.index >= dt.time(12, 0, 0))]\n",
    "df_sell = dataAGF_Processed_seller[(dataAGF_Processed_seller.index < dt.time(15, 0, 0)) & \n",
    "                                   (dataAGF_Processed_seller.index >= dt.time(12, 0, 0))] \n",
    "\n",
    "VWAP(df_buy), VWAP(df_sell)"
   ]
  },
  {
   "cell_type": "markdown",
   "metadata": {},
   "source": [
    "15:00 - 17:30"
   ]
  },
  {
   "cell_type": "code",
   "execution_count": 19,
   "metadata": {},
   "outputs": [
    {
     "data": {
      "text/plain": [
       "(66.08637827551495, 65.85991259218805)"
      ]
     },
     "execution_count": 19,
     "metadata": {},
     "output_type": "execute_result"
    }
   ],
   "source": [
    "df_buy  = dataAGF_Processed_buyer[(dataAGF_Processed_buyer.index < dt.time(17, 30, 0)) & \n",
    "                                  (dataAGF_Processed_buyer.index >= dt.time(15, 0, 0))]\n",
    "df_sell = dataAGF_Processed_seller[(dataAGF_Processed_seller.index < dt.time(17, 30, 0)) & \n",
    "                                   (dataAGF_Processed_seller.index >= dt.time(15, 0, 0))] \n",
    "\n",
    "VWAP(df_buy), VWAP(df_sell)"
   ]
  },
  {
   "cell_type": "markdown",
   "metadata": {},
   "source": [
    "##### Roll's measure"
   ]
  },
  {
   "cell_type": "markdown",
   "metadata": {},
   "source": [
    "In absolute terms"
   ]
  },
  {
   "cell_type": "code",
   "execution_count": 20,
   "metadata": {},
   "outputs": [],
   "source": [
    "dataAGF_Processed['Return_t'] = dataAGF_Processed['Price'].diff().shift(-1)\n",
    "dataAGF_Processed['Return_t+1'] = dataAGF_Processed['Price'].diff()"
   ]
  },
  {
   "cell_type": "code",
   "execution_count": 21,
   "metadata": {},
   "outputs": [],
   "source": [
    "spreadRoll = 2 * np.sqrt(-dataAGF_Processed[['Return_t', 'Return_t+1']].cov().iloc[0, 1])"
   ]
  },
  {
   "cell_type": "code",
   "execution_count": 22,
   "metadata": {},
   "outputs": [
    {
     "data": {
      "text/plain": [
       "0.10516322321707215"
      ]
     },
     "execution_count": 22,
     "metadata": {},
     "output_type": "execute_result"
    }
   ],
   "source": [
    "spreadRoll"
   ]
  },
  {
   "cell_type": "code",
   "execution_count": 23,
   "metadata": {},
   "outputs": [
    {
     "data": {
      "text/plain": [
       "(0.10616570327552977, 0.11833903660886351)"
      ]
     },
     "execution_count": 23,
     "metadata": {},
     "output_type": "execute_result"
    }
   ],
   "source": [
    "dataAGF_Processed.Quoted_Spread.mean(), dataAGF_Processed.Effective_Spread.mean() * 2"
   ]
  },
  {
   "cell_type": "markdown",
   "metadata": {},
   "source": [
    "Roll's measure tend to slightly underestimate the true spread. It stays very close to the average quoted spread"
   ]
  },
  {
   "cell_type": "markdown",
   "metadata": {},
   "source": [
    "##### Regression analysis ti estimate price impact $\\lambda$"
   ]
  },
  {
   "cell_type": "code",
   "execution_count": 24,
   "metadata": {},
   "outputs": [],
   "source": [
    "dataAGF_Processed['Interval_15'] = dataAGF_Processed.index.map(lambda x:calcTimeInterval(x, timeRef, 15))\n",
    "dataAGF_Processed['SignedFlow'] = dataAGF_Processed['Direction'] * dataAGF_Processed['Trade Size']"
   ]
  },
  {
   "cell_type": "code",
   "execution_count": 25,
   "metadata": {},
   "outputs": [],
   "source": [
    "mid_price_change = pd.Series([dataAGF_Processed[dataAGF_Processed.Interval_15 == i].MidPrice[-1] - dataAGF_Processed[dataAGF_Processed.Interval_15 == i].MidPrice[0]\n",
    "                    for i in dataAGF_Processed.Interval_15.unique()], \n",
    "                             index = dataAGF_Processed.Interval_15.unique(), name = 'MidPridceChange').to_frame()\n",
    "signedOrderVolume = dataAGF_Processed.set_index('Interval_15').SignedFlow.sum(level = 'Interval_15').to_frame()\n"
   ]
  },
  {
   "cell_type": "code",
   "execution_count": 26,
   "metadata": {},
   "outputs": [
    {
     "data": {
      "text/plain": [
       "LinearRegression(fit_intercept=False)"
      ]
     },
     "execution_count": 26,
     "metadata": {},
     "output_type": "execute_result"
    }
   ],
   "source": [
    "from sklearn.linear_model import LinearRegression\n",
    "\n",
    "model = LinearRegression(fit_intercept = False)\n",
    "model.fit(signedOrderVolume, mid_price_change)"
   ]
  },
  {
   "cell_type": "code",
   "execution_count": 27,
   "metadata": {},
   "outputs": [
    {
     "data": {
      "text/plain": [
       "(array([[1.54672593e-05]]), -0.025272479976057083)"
      ]
     },
     "execution_count": 27,
     "metadata": {},
     "output_type": "execute_result"
    }
   ],
   "source": [
    "model.coef_, model.score(mid_price_change, signedOrderVolume)"
   ]
  },
  {
   "cell_type": "markdown",
   "metadata": {},
   "source": [
    "Conclusion: the $\\lambda$ parameter from regression is almost 0, with near-0 R-square score"
   ]
  },
  {
   "cell_type": "markdown",
   "metadata": {},
   "source": [
    "# Exercise2: Inferring trade direction from KK data"
   ]
  },
  {
   "cell_type": "code",
   "execution_count": 31,
   "metadata": {},
   "outputs": [
    {
     "data": {
      "text/html": [
       "<div>\n",
       "<style scoped>\n",
       "    .dataframe tbody tr th:only-of-type {\n",
       "        vertical-align: middle;\n",
       "    }\n",
       "\n",
       "    .dataframe tbody tr th {\n",
       "        vertical-align: top;\n",
       "    }\n",
       "\n",
       "    .dataframe thead th {\n",
       "        text-align: right;\n",
       "    }\n",
       "</style>\n",
       "<table border=\"1\" class=\"dataframe\">\n",
       "  <thead>\n",
       "    <tr style=\"text-align: right;\">\n",
       "      <th></th>\n",
       "      <th>Time</th>\n",
       "      <th>Trade Size</th>\n",
       "      <th>Price</th>\n",
       "      <th>Direction</th>\n",
       "      <th>Bid</th>\n",
       "      <th>Ask</th>\n",
       "    </tr>\n",
       "  </thead>\n",
       "  <tbody>\n",
       "    <tr>\n",
       "      <th>0</th>\n",
       "      <td>09:30:02</td>\n",
       "      <td>500</td>\n",
       "      <td>2.99</td>\n",
       "      <td>-1</td>\n",
       "      <td>2.81</td>\n",
       "      <td>3.24</td>\n",
       "    </tr>\n",
       "    <tr>\n",
       "      <th>1</th>\n",
       "      <td>09:30:02</td>\n",
       "      <td>500</td>\n",
       "      <td>2.99</td>\n",
       "      <td>-1</td>\n",
       "      <td>2.81</td>\n",
       "      <td>3.24</td>\n",
       "    </tr>\n",
       "    <tr>\n",
       "      <th>2</th>\n",
       "      <td>09:32:28</td>\n",
       "      <td>2400</td>\n",
       "      <td>3.03</td>\n",
       "      <td>1</td>\n",
       "      <td>2.88</td>\n",
       "      <td>3.15</td>\n",
       "    </tr>\n",
       "    <tr>\n",
       "      <th>3</th>\n",
       "      <td>09:33:35</td>\n",
       "      <td>100</td>\n",
       "      <td>3.03</td>\n",
       "      <td>1</td>\n",
       "      <td>3.01</td>\n",
       "      <td>3.03</td>\n",
       "    </tr>\n",
       "    <tr>\n",
       "      <th>4</th>\n",
       "      <td>09:33:38</td>\n",
       "      <td>100</td>\n",
       "      <td>3.02</td>\n",
       "      <td>1</td>\n",
       "      <td>3.01</td>\n",
       "      <td>3.03</td>\n",
       "    </tr>\n",
       "  </tbody>\n",
       "</table>\n",
       "</div>"
      ],
      "text/plain": [
       "       Time  Trade Size  Price  Direction   Bid   Ask\n",
       "0  09:30:02         500   2.99         -1  2.81  3.24\n",
       "1  09:30:02         500   2.99         -1  2.81  3.24\n",
       "2  09:32:28        2400   3.03          1  2.88  3.15\n",
       "3  09:33:35         100   3.03          1  3.01  3.03\n",
       "4  09:33:38         100   3.02          1  3.01  3.03"
      ]
     },
     "execution_count": 31,
     "metadata": {},
     "output_type": "execute_result"
    }
   ],
   "source": [
    "dataKris.head()"
   ]
  },
  {
   "cell_type": "code",
   "execution_count": 33,
   "metadata": {},
   "outputs": [],
   "source": [
    "dataKris_Processed = addSpreads(dataKris)\n",
    "dataKris_Processed['TimeInterval'] = dataKris['Time'].apply(lambda x:calcTimeInterval(x, timeRef))\n",
    "dataKris_Processed.set_index('Time', inplace = True)"
   ]
  },
  {
   "cell_type": "markdown",
   "metadata": {},
   "source": [
    "### 1- Spreads"
   ]
  },
  {
   "cell_type": "code",
   "execution_count": 30,
   "metadata": {},
   "outputs": [
    {
     "data": {
      "text/plain": [
       "<matplotlib.axes._subplots.AxesSubplot at 0x7fdef26f6490>"
      ]
     },
     "execution_count": 30,
     "metadata": {},
     "output_type": "execute_result"
    },
    {
     "data": {
      "image/png": "[encoded data removed]",
      "text/plain": [
       "<Figure size 432x288 with 1 Axes>"
      ]
     },
     "metadata": {
      "needs_background": "light"
     },
     "output_type": "display_data"
    }
   ],
   "source": [
    "dataKK_Processed.groupby(['TimeInterval']).mean()[['Quoted_Spread', 'Relative_Spread', 'log_Spread']].iloc[1:].plot()"
   ]
  },
  {
   "cell_type": "code",
   "execution_count": 42,
   "metadata": {},
   "outputs": [
    {
     "data": {
      "text/plain": [
       "<matplotlib.axes._subplots.AxesSubplot at 0x7fa8f28669a0>"
      ]
     },
     "execution_count": 42,
     "metadata": {},
     "output_type": "execute_result"
    },
    {
     "data": {
      "image/png": "[encoded data removed]",
      "text/plain": [
       "<Figure size 432x288 with 1 Axes>"
      ]
     },
     "metadata": {
      "needs_background": "light"
     },
     "output_type": "display_data"
    }
   ],
   "source": [
    "dataKK_Processed[['Ask', 'Bid']].plot()"
   ]
  },
  {
   "cell_type": "markdown",
   "metadata": {},
   "source": [
    "### 2- Lee-Ready algorithm"
   ]
  },
  {
   "cell_type": "code",
   "execution_count": 83,
   "metadata": {},
   "outputs": [],
   "source": [
    "def leeReadyDirection(price, lastAsk, lastBid):\n",
    "    return int(np.abs(price - lastAsk) <= np.abs(price - lastBid)) - int(np.abs(price - lastAsk) > np.abs(price - lastBid))"
   ]
  },
  {
   "cell_type": "code",
   "execution_count": 88,
   "metadata": {},
   "outputs": [],
   "source": [
    "dataKris_Processed['Direction_LR'] = dataKris_Processed.apply(lambda x:leeReadyDirection(x['Price'],\n",
    "                                                                                        x['Ask'], \n",
    "                                                                                        x['Bid']), axis = 1)"
   ]
  },
  {
   "cell_type": "code",
   "execution_count": 89,
   "metadata": {},
   "outputs": [
    {
     "data": {
      "text/plain": [
       "0.9255172413793104"
      ]
     },
     "execution_count": 89,
     "metadata": {},
     "output_type": "execute_result"
    }
   ],
   "source": [
    "np.sum(dataKris_Processed['Direction'] == dataKris_Processed['Direction_LR'])/len(dataKris)"
   ]
  },
  {
   "cell_type": "markdown",
   "metadata": {},
   "source": [
    "Lee-Ready achieves 92.6% accuracy"
   ]
  },
  {
   "cell_type": "markdown",
   "metadata": {},
   "source": [
    "# Exercise3: Further empirical cost measurement"
   ]
  },
  {
   "cell_type": "markdown",
   "metadata": {},
   "source": [
    "Omitted, same as exercise 1"
   ]
  },
  {
   "cell_type": "markdown",
   "metadata": {},
   "source": [
    "# Exercise4: Computing spreads"
   ]
  },
  {
   "cell_type": "code",
   "execution_count": 33,
   "metadata": {
    "scrolled": true
   },
   "outputs": [
    {
     "data": {
      "text/plain": [
       "(2.8100000000000023, 0.027847975818839524)"
      ]
     },
     "execution_count": 33,
     "metadata": {},
     "output_type": "execute_result"
    }
   ],
   "source": [
    "ask = 102.31\n",
    "bid = 99.50\n",
    "\n",
    "s0 = ask - bid\n",
    "m0 = (ask + bid)/2\n",
    "\n",
    "s0, s0/m0"
   ]
  },
  {
   "cell_type": "markdown",
   "metadata": {},
   "source": [
    "10:30"
   ]
  },
  {
   "cell_type": "code",
   "execution_count": 40,
   "metadata": {},
   "outputs": [
    {
     "data": {
      "text/plain": [
       "(2.530000000000001, 0.02497901959816361)"
      ]
     },
     "execution_count": 40,
     "metadata": {},
     "output_type": "execute_result"
    }
   ],
   "source": [
    "ask = 102.55\n",
    "bid = 100.02\n",
    "\n",
    "s0 = ask - bid\n",
    "m0 = (ask + bid)/2\n",
    "\n",
    "s0, s0/m0"
   ]
  },
  {
   "cell_type": "markdown",
   "metadata": {},
   "source": [
    "Effective spread at 9:30 after execution of 102.76 buy order"
   ]
  },
  {
   "cell_type": "code",
   "execution_count": 39,
   "metadata": {},
   "outputs": [
    {
     "data": {
      "text/plain": [
       "(1.855000000000004, 0.01838362816510583, 1.4050000000000011)"
      ]
     },
     "execution_count": 39,
     "metadata": {},
     "output_type": "execute_result"
    }
   ],
   "source": [
    "ask = 102.31\n",
    "bid = 99.50\n",
    "\n",
    "s0 = ask - bid\n",
    "m0 = (ask + bid)/2\n",
    "\n",
    "\n",
    "(102.76 - m0), (102.76 - m0)/m0, ask - m0"
   ]
  },
  {
   "cell_type": "markdown",
   "metadata": {},
   "source": [
    "Realized spread between 9:30 - 10:30"
   ]
  },
  {
   "cell_type": "code",
   "execution_count": 41,
   "metadata": {},
   "outputs": [
    {
     "data": {
      "text/plain": [
       "1.4750000000000085"
      ]
     },
     "execution_count": 41,
     "metadata": {},
     "output_type": "execute_result"
    }
   ],
   "source": [
    "ask = 102.55\n",
    "bid = 100.02\n",
    "\n",
    "s0 = ask - bid\n",
    "m0 = (ask + bid)/2\n",
    "\n",
    "(102.76 - m0)"
   ]
  }
 ],
 "metadata": {
  "kernelspec": {
   "display_name": "Python 3",
   "language": "python",
   "name": "python3"
  },
  "language_info": {
   "codemirror_mode": {
    "name": "ipython",
    "version": 3
   },
   "file_extension": ".py",
   "mimetype": "text/x-python",
   "name": "python",
   "nbconvert_exporter": "python",
   "pygments_lexer": "ipython3",
   "version": "3.8.3"
  }
 },
 "nbformat": 4,
 "nbformat_minor": 4
}
