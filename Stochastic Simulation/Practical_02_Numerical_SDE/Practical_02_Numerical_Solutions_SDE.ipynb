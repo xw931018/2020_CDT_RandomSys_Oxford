{
 "cells": [
  {
   "cell_type": "code",
   "execution_count": 2,
   "metadata": {},
   "outputs": [],
   "source": [
    "import pandas as pd\n",
    "import numpy as np\n",
    "import datetime as dt\n",
    "import scipy.stats as stats\n",
    "import matplotlib.pyplot as plt"
   ]
  },
  {
   "cell_type": "markdown",
   "metadata": {},
   "source": [
    "# 1. Weak and strong convergence MATLAB code\n",
    "\n",
    "- lec7_weak: Test weak convergence of a call option with underlyong as a diffusion stock price. The 1:M2:M for-loop is for memory efficiency, as it took to long to operate on 1e7-lengh array.\n",
    "- lec7_strong: Test strong convergence of the stock price comparing the terminal values from h and h/2 time steps."
   ]
  },
  {
   "cell_type": "code",
   "execution_count": 3,
   "metadata": {},
   "outputs": [],
   "source": [
    "def european_call(r, sigma, T, S, K):\n",
    "    log_term = np.log(S/K/np.exp(-r * T))\n",
    "    vol_term = sigma*np.sqrt(T)\n",
    "    d1 = log_term/vol_term + 0.5 * vol_term\n",
    "    d2 = log_term/vol_term - 0.5 * vol_term\n",
    "    return S * stats.norm.cdf(d1) - K * np.exp(-r * T) * stats.norm.cdf(d2)"
   ]
  },
  {
   "cell_type": "markdown",
   "metadata": {},
   "source": [
    "# 2. Python implementation to test weak/strong convergence"
   ]
  },
  {
   "cell_type": "markdown",
   "metadata": {},
   "source": [
    "## 2-1 Lec7_weak"
   ]
  },
  {
   "cell_type": "markdown",
   "metadata": {},
   "source": [
    "### 2-1-1 Weak Convergence"
   ]
  },
  {
   "cell_type": "code",
   "execution_count": 4,
   "metadata": {},
   "outputs": [],
   "source": [
    "r, sig, T, S0, K = 0.05, 0.5, 1, 100, 110\n",
    "\n",
    "M = int(1e7)\n",
    "M2 = int(1e4)"
   ]
  },
  {
   "cell_type": "code",
   "execution_count": 5,
   "metadata": {},
   "outputs": [],
   "source": [
    "V_exact = european_call(r, sig, T, S0, K)"
   ]
  },
  {
   "cell_type": "code",
   "execution_count": 6,
   "metadata": {},
   "outputs": [
    {
     "name": "stdout",
     "output_type": "stream",
     "text": [
      "CPU times: user 34.9 s, sys: 1.9 s, total: 36.8 s\n",
      "Wall time: 37.1 s\n"
     ]
    }
   ],
   "source": [
    "%%time\n",
    "\n",
    "hh, err1, err2 = {}, {}, {}\n",
    "\n",
    "for p in range(6):\n",
    "    N = 2**(1 + p)\n",
    "    h = T/N\n",
    "    sum1, sum2 = 0, 0\n",
    "    # No need to separate paths in bulk, python can handle 1e7-length array\n",
    "    S = S0 * np.ones((1, M))\n",
    "    for n in range(N):\n",
    "        dW = np.sqrt(h) * np.random.normal(size = (1, M))\n",
    "        S  = S * (1 + r * h + sig * dW)\n",
    "    P = np.exp(-r * T) * (S - K > 0) * (S - K)\n",
    "    sum1 = sum1 + P.sum()\n",
    "    sum2 = sum2 + (P**2).sum()\n",
    "    \n",
    "    V       = sum1/M\n",
    "    sd      = np.sqrt((sum2/M - (sum1/M)**2)/(M-1))\n",
    "    \n",
    "    hh[1 + p]   = h\n",
    "    err1[1 + p] = V - V_exact\n",
    "    err2[1 + p] = 3 * sd"
   ]
  },
  {
   "cell_type": "code",
   "execution_count": 7,
   "metadata": {},
   "outputs": [],
   "source": [
    "df_errors = pd.DataFrame([hh, err1, err2]).T.rename(columns = {0: 'step',\n",
    "                                                                1: 'Weak Error',\n",
    "                                                                2: \"MonteCarlo Error\"})"
   ]
  },
  {
   "cell_type": "code",
   "execution_count": 8,
   "metadata": {},
   "outputs": [
    {
     "data": {
      "image/png": "[encoded data removed]",
      "text/plain": [
       "<Figure size 864x576 with 1 Axes>"
      ]
     },
     "metadata": {
      "needs_background": "light"
     },
     "output_type": "display_data"
    }
   ],
   "source": [
    "ax = plt.loglog(df_errors['step'], df_errors['Weak Error'].abs(),'b-*',\n",
    "                df_errors['step'], df_errors['MonteCarlo Error'], 'r-*')\n",
    "plt.xticks(df_errors['step'], df_errors['step'])\n",
    "plt.yticks(df_errors['Weak Error'].abs(), df_errors['Weak Error'].abs().apply(lambda x:'{:0.03f}'.format(x)))\n",
    "\n",
    "fg = plt.gcf()\n",
    "fg.set_size_inches((12, 8))\n",
    "plt.xlabel('log of h')\n",
    "plt.ylabel('log of error')\n",
    "plt.title('Weak convergence - comparison to exact solution')\n",
    "plt.legend(['Weak error', 'MC error'], loc = 'upper left')\n",
    "plt.grid()\n"
   ]
  },
  {
   "cell_type": "markdown",
   "metadata": {},
   "source": [
    "### 2-1-2 Monte Carlo simulation comparing to 2h simulation"
   ]
  },
  {
   "cell_type": "code",
   "execution_count": null,
   "metadata": {},
   "outputs": [],
   "source": [
    "%%time\n",
    "\n",
    "M = int(1e7)\n",
    "hh, err1, err2 = {}, {}, {}\n",
    "\n",
    "for p in range(7):\n",
    "    N = 2**(p + 1)\n",
    "    h = T/N \n",
    "    sum1, sum2 = 0, 0\n",
    "    S  = S0 * np.ones(shape = (1, M))\n",
    "    S2 = S0 * np.ones(shape = (1, M))\n",
    "    for n in range(int(N/2)):\n",
    "        dW1 = np.sqrt(h) * np.random.normal(size = (1, M))\n",
    "        S   = S * (1 + r * h + sig * dW1)\n",
    "        dW2 = np.sqrt(h) * np.random.normal(size = (1, M))\n",
    "        S   = S * (1 + r * h + sig * dW2)\n",
    "        S2  = S2 * (1 + r*2*h + sig*(dW1 + dW2))\n",
    "    P = np.exp(-r * T) * (S - K > 0) * (S - K)\n",
    "    P2 = np.exp(-r * T) * (S2 - K > 0) * (S2 - K)\n",
    "    \n",
    "    sum1 = sum1 + (P - P2).sum()\n",
    "    sum2 = sum2 + ((P - P2)**2).sum()\n",
    "    Vd = sum1/M\n",
    "    sd = np.sqrt((sum2/M - (sum1/M)**2)/(M-1))\n",
    "    \n",
    "    hh[p+1] = h\n",
    "    err1[p+1] = Vd\n",
    "    err2[p+1] = 3 * sd"
   ]
  },
  {
   "cell_type": "code",
   "execution_count": null,
   "metadata": {},
   "outputs": [],
   "source": [
    "df_errors_2h = pd.DataFrame([hh, err1, err2]).T.rename(columns = {0: 'step',\n",
    "                                                                  1: 'Weak Error',\n",
    "                                                                  2: \"MonteCarlo Error\"})"
   ]
  },
  {
   "cell_type": "code",
   "execution_count": null,
   "metadata": {},
   "outputs": [],
   "source": [
    "ax = plt.loglog(df_errors_2h['step'], df_errors_2h['Weak Error'].abs(),'b-*',\n",
    "                df_errors_2h['step'], df_errors_2h['MonteCarlo Error'], 'r-*')\n",
    "plt.xticks(df_errors_2h['step'], df_errors_2h['step'])\n",
    "plt.yticks(df_errors_2h['Weak Error'].abs(), df_errors_2h['Weak Error'].abs().apply(lambda x:'{:0.03f}'.format(x)))\n",
    "\n",
    "fg = plt.gcf()\n",
    "fg.set_size_inches((12, 8))\n",
    "plt.xlabel('log of h')\n",
    "plt.ylabel('log of error')\n",
    "plt.title('Weak convergence - difference from 2h approximation')\n",
    "plt.legend(['Weak error', 'MC error'], loc = 'upper left')\n",
    "plt.grid()\n"
   ]
  },
  {
   "cell_type": "markdown",
   "metadata": {},
   "source": [
    "## 2-2 Strong Convergence"
   ]
  },
  {
   "cell_type": "code",
   "execution_count": null,
   "metadata": {},
   "outputs": [],
   "source": [
    "r, sig, T, S0 = 0.05, 0.5, 1, 100\n",
    "\n",
    "M = int(1e5)"
   ]
  },
  {
   "cell_type": "code",
   "execution_count": null,
   "metadata": {},
   "outputs": [],
   "source": [
    "%%time\n",
    "\n",
    "hh, err1, err2, err3, err4 = {}, {}, {}, {}, {}\n",
    "\n",
    "for p in range(7):\n",
    "    N = 2**(p + 1)\n",
    "    h = T/N\n",
    "    sum1, sum2, sum3, sum4 = 0, 0, 0, 0\n",
    "    \n",
    "    S = S0 * np.ones((1, M))\n",
    "    S2 = S0 * np.ones((1, M))\n",
    "    W = 0\n",
    "    for n in range(int(N/2)):\n",
    "        dW1 = np.sqrt(h) * np.random.normal(size = (1, M))\n",
    "        S   = S*(1 + r*h + sig*dW1)\n",
    "        dW2 = np.sqrt(h) * np.random.normal(size = (1, M))\n",
    "        S   = S*(1 + r*h + sig*dW2)\n",
    "        \n",
    "        S2  = S2*(1 + r*2*h + sig*(dW1 + dW2))\n",
    "        W   = W + dW1 + dW2\n",
    "    S_exact = S0 * np.exp((r-0.5*sig**2)*T + sig * W)\n",
    "    \n",
    "    diff = (S_exact - S)**2\n",
    "    sum1 = sum1 + diff.sum()\n",
    "    sum2 = sum2 + (diff**2).sum()\n",
    "    \n",
    "    diff2 = (S2 - S)**2\n",
    "    sum3 = sum3 + diff2.sum()\n",
    "    sum4 = sum4 + (diff2**2).sum()\n",
    "\n",
    "    Vd = sum1/M\n",
    "    sd = np.sqrt((sum2/M - (sum1/M)**2)/(M-1))\n",
    "    \n",
    "    hh[p] = h\n",
    "    err1[p] = np.sqrt(Vd)\n",
    "    err2[p] = (0.5/np.sqrt(Vd) * 3*sd)\n",
    " \n",
    "    Vd = sum3/M\n",
    "    sd = np.sqrt((sum4/M - (sum3/M)**2)/(M-1))\n",
    "    err3[p] = np.sqrt(Vd)\n",
    "    err4[p] = (0.5/np.sqrt(Vd) * 3*sd)"
   ]
  },
  {
   "cell_type": "code",
   "execution_count": null,
   "metadata": {},
   "outputs": [],
   "source": [
    "df_strong_2h = pd.DataFrame([hh, err1, err2, err3, err4]).T.rename(columns = {0:'step',\n",
    "                                                                              1: 'Exact error',\n",
    "                                                                              2: 'MC error w.r.t. exact',\n",
    "                                                                              3: 'Relative error h v.s. 2h', \n",
    "                                                                              4: 'MC error w.r.t. relative'})"
   ]
  },
  {
   "cell_type": "code",
   "execution_count": null,
   "metadata": {},
   "outputs": [],
   "source": [
    "plt.loglog(df_strong_2h['step'], df_strong_2h['Exact error'].abs(),'b-*',\n",
    "           df_strong_2h['step'], df_strong_2h['MC error w.r.t. exact'], 'r-*',\n",
    "           df_strong_2h['step'], df_strong_2h['Relative error h v.s. 2h'], 'b--o',\n",
    "           df_strong_2h['step'], df_strong_2h['MC error w.r.t. relative'], 'r--o')\n",
    "\n",
    "plt.xticks(df_strong_2h['step'], df_errors_2h['step'])\n",
    "plt.yticks(df_strong_2h['MC error w.r.t. exact'].abs(), \n",
    "           df_strong_2h['MC error w.r.t. exact'].abs().apply(lambda x:'{:0.03f}'.format(x)))\n",
    "\n",
    "fg = plt.gcf()\n",
    "fg.set_size_inches((12, 8))\n",
    "plt.xlabel('log of h')\n",
    "plt.ylabel('log of error')\n",
    "plt.title('Strong convergence -- difference from exact and 2h approximation')\n",
    "plt.legend(['Exact error', 'MC error w.r.t. exact',\n",
    "            'Relative error h v.s. 2h', 'MC error w.r.t. relative'], loc = 'upper left')\n",
    "plt.grid()\n"
   ]
  },
  {
   "cell_type": "markdown",
   "metadata": {},
   "source": [
    "# 3. Solving Ornstein Uhlenbeck equation\n",
    "\n",
    "## $dS = \\kappa (\\theta-S)dt + \\sigma dW$"
   ]
  },
  {
   "cell_type": "markdown",
   "metadata": {},
   "source": [
    "## Analytical form $S_t = e^{-\\kappa t}S_0 + \\theta(1-e^{-\\kappa t}) + \\sigma\\int_0^{t}e^{-\\kappa(t-s)}dW_s$\n",
    "\n",
    "Fixing time $t$, $S_t$ is a Gaussian distribution, with mean $e^{-\\kappa t}S_0 + \\theta(1-e^{-\\kappa t})$ and variance $\\frac{\\sigma^2}{2\\kappa}(1-e^{-2\\kappa t})$. \n",
    "\n",
    "### We can still test its weak convergence."
   ]
  },
  {
   "cell_type": "code",
   "execution_count": null,
   "metadata": {},
   "outputs": [],
   "source": [
    "S0, theta, kappa, sigma = 100, 110, 2, 0.5\n",
    "T = 1\n",
    "\n",
    "M = int(1e5)\n",
    "\n",
    "mean_exact = np.exp(-kappa * T)*S0 + theta * (1 - np.exp(-kappa*T))\n",
    "var_exact  = sigma**2/kappa*(1 - np.exp(-2*kappa*T))"
   ]
  },
  {
   "cell_type": "code",
   "execution_count": null,
   "metadata": {
    "scrolled": true
   },
   "outputs": [],
   "source": [
    "mean_exact, var_exact"
   ]
  },
  {
   "cell_type": "code",
   "execution_count": null,
   "metadata": {
    "scrolled": true
   },
   "outputs": [],
   "source": [
    "%%time\n",
    "\n",
    "hh, err1, err2, err3, err4 = {}, {}, {}, {}, {}\n",
    "\n",
    "for p in range(12):\n",
    "    N = 2**(p + 1)\n",
    "    h = T/N\n",
    "    sum1, sum2, sum3, sum4 = 0, 0, 0, 0\n",
    "    \n",
    "    S = S0 * np.ones((1, M))\n",
    "    S2 = S0 * np.ones((1, M))\n",
    "    W = 0\n",
    "    \n",
    "    for n in range(int(N/2)):\n",
    "        dW1 = np.sqrt(h) * np.random.normal(size = (1, M))\n",
    "        S   = S + kappa*(theta-S)*h + sig*dW1\n",
    "        dW2 = np.sqrt(h) * np.random.normal(size = (1, M))\n",
    "        S   = S + kappa*(theta-S)*h + sig*dW2\n",
    "        \n",
    "        S2  = S2 + kappa*(theta-S2)*2*h + sig*(dW1 + dW2)\n",
    "        W   = W + dW1 + dW2\n",
    "    \n",
    "    diff = (mean_exact - S)\n",
    "    sum1 = sum1 + diff.sum()\n",
    "    sum2 = sum2 + (diff**2).sum()\n",
    "    \n",
    "    diff2 = (S2 - S)**2\n",
    "    sum3 = sum3 + diff2.sum()\n",
    "    sum4 = sum4 + (diff2**2).sum()\n",
    "\n",
    "    Weak_Error = sum1/M\n",
    "    \n",
    "    sd = np.sqrt((sum2/M - (sum1/M)**2)/(M-1))\n",
    "    \n",
    "    hh[p] = h\n",
    "    err1[p] = Weak_Error\n",
    "    err2[p] = 3*sd\n",
    " \n",
    "    Vd = sum3/M\n",
    "    sd = np.sqrt((sum4/M - (sum3/M)**2)/(M-1))\n",
    "    err3[p] = np.sqrt(Vd)\n",
    "    err4[p] = (0.5/np.sqrt(Vd) * 3*sd)"
   ]
  },
  {
   "cell_type": "code",
   "execution_count": null,
   "metadata": {},
   "outputs": [],
   "source": [
    "df_OU_2h = pd.DataFrame([hh, err1, err2, err3, err4]).T.rename(columns = {0:'step',\n",
    "                                                                              1: 'Weak error',\n",
    "                                                                              2: 'MC error Weak',\n",
    "                                                                              3: 'Relative strong error h v.s. 2h', \n",
    "                                                                              4: 'MC error w.r.t. relative'})"
   ]
  },
  {
   "cell_type": "code",
   "execution_count": null,
   "metadata": {},
   "outputs": [],
   "source": [
    "plt.loglog(df_OU_2h['step'], df_OU_2h['Weak error'].abs(),'b-*',\n",
    "           df_OU_2h['step'], df_OU_2h['MC error Weak'], 'r-*',\n",
    "           df_OU_2h['step'], df_OU_2h['Relative strong error h v.s. 2h'], 'b--o',\n",
    "           df_OU_2h['step'], df_OU_2h['MC error w.r.t. relative'], 'r--o')\n",
    "\n",
    "plt.xticks(df_OU_2h['step'], df_OU_2h['step'])\n",
    "plt.yticks(df_OU_2h['Weak error'].abs(), \n",
    "           df_OU_2h['Weak error'].abs().apply(lambda x:'{:0.03f}'.format(x)))\n",
    "\n",
    "fg = plt.gcf()\n",
    "fg.set_size_inches((12, 8))\n",
    "plt.xlabel('log of h')\n",
    "plt.ylabel('log of error')\n",
    "plt.title('Strong and weak convergence -- difference from h and 2h approximation')\n",
    "plt.legend(df_OU_2h.columns[1:], loc = 'upper left')\n",
    "plt.grid()\n"
   ]
  },
  {
   "cell_type": "markdown",
   "metadata": {},
   "source": [
    "### Summary: Weak error ~ O(h), Strong error ~ O($\\sqrt{h}$) from the above graphs, as the coeffients are Lipschitz w.r.t. S"
   ]
  },
  {
   "cell_type": "markdown",
   "metadata": {},
   "source": [
    "#  4. Heston model with a pair of SDEs\n",
    "\n",
    "$dS = rSdt + \\sqrt{|v|}SdW^{(1)}$\n",
    "\n",
    "$dv = \\kappa(\\theta-v)dt + \\xi\\sqrt{|v|}dW^{(2)}$\n",
    "\n",
    "$d<W^{(1)}, W^{(2)}>_t = \\rho dt, \\rho = -0.1$"
   ]
  },
  {
   "cell_type": "code",
   "execution_count": null,
   "metadata": {},
   "outputs": [],
   "source": [
    "S0, v0, theta, kappa, xi = 100, 0.25, 0.25, 2, 0.5\n",
    "\n",
    "cov = np.array([[1, -0.1], \n",
    "                [-0.1, 1]])"
   ]
  },
  {
   "cell_type": "code",
   "execution_count": null,
   "metadata": {
    "scrolled": false
   },
   "outputs": [],
   "source": [
    "%%time\n",
    "\n",
    "hh, err1, err2 = {}, {}, {}\n",
    "\n",
    "for p in range(12):\n",
    "    N = 2**(p + 1)\n",
    "    h = T/N\n",
    "    sum1, sum2 = 0, 0\n",
    "    \n",
    "    S = S0 * np.ones((1, M))\n",
    "    S2 = S0 * np.ones((1, M))\n",
    "    \n",
    "    \n",
    "    v = v0 * np.ones((1, M))\n",
    "    v2 = v0 * np.ones((1, M))\n",
    "    \n",
    "    W_S, W_v = 0, 0\n",
    "    \n",
    "    for n in range(int(N/2)):\n",
    "        dW_S_1, dW_v_1 = [x for x in np.sqrt(h) * np.random.multivariate_normal(mean = [0, 0], cov = cov, size = M).T]\n",
    "        S   = S * (1 + r * h + np.sqrt(np.abs(v)) * dW_S_1)\n",
    "        v   = v + kappa * (theta-v)*h + xi * np.sqrt(np.abs(v)) * dW_v_1\n",
    "\n",
    "        dW_S_2, dW_v_2 = [x for x in np.sqrt(h) * np.random.multivariate_normal(mean = [0, 0], cov = cov, size = M).T]\n",
    "        S   = S * (1 + r * h + np.sqrt(np.abs(v)) * dW_S_2)\n",
    "        v   = v + kappa * (theta-v)*h + xi * np.sqrt(np.abs(v)) * dW_v_2\n",
    "\n",
    "        S2   = S2 * (1 + r * 2* h + np.sqrt(np.abs(v2)) * (dW_S_1 + dW_S_2))\n",
    "        v2   = v2 + kappa * (theta-v2)*2*h + xi * np.sqrt(np.abs(v2)) * (dW_v_1 + dW_v_2)\n",
    "\n",
    "    diff = (S2 - S)**2\n",
    "    sum1 = sum1 + diff.sum()\n",
    "    sum2 = sum2 + (diff**2).sum()\n",
    "\n",
    "    Vd = sum1/M\n",
    "\n",
    "    sd = np.sqrt((sum2/M - (sum1/M)**2)/(M-1))\n",
    "    hh[p]   = h\n",
    "    err1[p] = np.sqrt(Vd)\n",
    "    err2[p] = (0.5/np.sqrt(Vd) * 3*sd)"
   ]
  },
  {
   "cell_type": "code",
   "execution_count": null,
   "metadata": {},
   "outputs": [],
   "source": [
    "df_Heston_2h = pd.DataFrame([hh, err1, err2]).T.rename(columns = {0:'step',\n",
    "                                                                  1: 'Relative strong error h v.s. 2h', \n",
    "                                                                  2: 'MC error w.r.t. relative'})"
   ]
  },
  {
   "cell_type": "code",
   "execution_count": null,
   "metadata": {
    "scrolled": false
   },
   "outputs": [],
   "source": [
    "plt.loglog(df_Heston_2h['step'], df_Heston_2h['Relative strong error h v.s. 2h'].abs(),'b-*',\n",
    "           df_Heston_2h['step'], df_Heston_2h['MC error w.r.t. relative'], 'r-*')\n",
    "\n",
    "plt.xticks(df_Heston_2h['step'], df_Heston_2h['step'])\n",
    "plt.yticks(df_Heston_2h['Relative strong error h v.s. 2h'].abs(), \n",
    "           df_Heston_2h['Relative strong error h v.s. 2h'].abs().apply(lambda x:'{:0.03f}'.format(x)))\n",
    "\n",
    "fg = plt.gcf()\n",
    "fg.set_size_inches((12, 8))\n",
    "plt.xlabel('log of h')\n",
    "plt.ylabel('log of error')\n",
    "plt.title('Strong convergence -- difference from h and 2h approximation')\n",
    "plt.legend(df_OU_2h.columns[1:], loc = 'upper left')\n",
    "plt.grid()\n"
   ]
  },
  {
   "cell_type": "markdown",
   "metadata": {},
   "source": [
    "### Strong convergence rate is $O(\\sqrt{h})$"
   ]
  },
  {
   "cell_type": "markdown",
   "metadata": {},
   "source": [
    "To do: structure the code better as for now there are a lot of duplications, which can be substituted by a class of a function"
   ]
  }
 ],
 "metadata": {
  "kernelspec": {
   "display_name": "Python 3",
   "language": "python",
   "name": "python3"
  },
  "language_info": {
   "codemirror_mode": {
    "name": "ipython",
    "version": 3
   },
   "file_extension": ".py",
   "mimetype": "text/x-python",
   "name": "python",
   "nbconvert_exporter": "python",
   "pygments_lexer": "ipython3",
   "version": "3.8.3"
  }
 },
 "nbformat": 4,
 "nbformat_minor": 4
}
