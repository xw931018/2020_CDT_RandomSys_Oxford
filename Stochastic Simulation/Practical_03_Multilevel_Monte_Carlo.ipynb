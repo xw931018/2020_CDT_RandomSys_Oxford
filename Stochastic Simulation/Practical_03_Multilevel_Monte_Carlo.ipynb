{
 "cells": [
  {
   "cell_type": "code",
   "execution_count": 94,
   "metadata": {},
   "outputs": [],
   "source": [
    "import numpy as np\n",
    "import scipy.stats as stats\n",
    "import pandas as pd\n",
    "# import datetime as dt"
   ]
  },
  {
   "cell_type": "markdown",
   "metadata": {},
   "source": [
    "# Simulation of gene expressed to protein to dimer"
   ]
  },
  {
   "cell_type": "markdown",
   "metadata": {},
   "source": [
    "# Description of problem\n",
    "\n",
    "Gene transcription system:\n",
    "\n",
    "$G\\rightarrow_{25} G+M$ \n",
    "\n",
    "$M\\rightarrow_{1000} M+P$\n",
    "\n",
    "$P+P\\rightarrow_{0.001}D$\n",
    "\n",
    "$M\\rightarrow_{0.1} \\phi$ \n",
    "\n",
    "$P\\rightarrow_1\\phi$"
   ]
  },
  {
   "cell_type": "markdown",
   "metadata": {},
   "source": [
    "$\\lambda_1 = 25X_G$\n",
    "\n",
    "$\\lambda_2 = 1000X_M$\n",
    "\n",
    "$\\lambda_3 = 0.001X_P(X_P-1)$\n",
    "\n",
    "$\\lambda_4 = 0.1X_M$\n",
    "\n",
    "$\\lambda_5 = X_P$"
   ]
  },
  {
   "cell_type": "markdown",
   "metadata": {},
   "source": [
    "#### Let $X_t=(X_M, X_P, X_D)_t$ be the state vector, the jumping vectors of 3 chemicals when each actions happens are: \n",
    "$[1, 0, 0], [0, 1, 0], [0, -2, 1], [-1, 0, 0], [0, -1, 0]$\n",
    "\n",
    "#### The state equations of 3 chemicals are written below: (Note $X_G$ is always 1)\n",
    "\n",
    "- $X_M(t) = X_M(0) + Y_1(\\int_0^t 25X_G(s) ds)  - Y_4(0.1\\int_0^t X_M(s) ds)$\n",
    "- $X_P(t) = X_P(0) + Y_2(\\int_0^t 1000X_M(s) ds) - 2Y_3(\\int_0^t 0.001X_P(s)(X_P(s)-1) ds) - Y_5(\\int_0^t X_P(s) ds)$\n",
    "- $X_D(t) = X_D(0) + Y_3(\\int_0^t 0.001X_P(s)(X_P(s)-1) ds)$"
   ]
  },
  {
   "cell_type": "markdown",
   "metadata": {},
   "source": [
    "Definition of lambdas and reaction vectors"
   ]
  },
  {
   "cell_type": "code",
   "execution_count": 172,
   "metadata": {},
   "outputs": [],
   "source": [
    "lambdaFuncs = lambda X_M, X_P, X_D : np.array([25, \n",
    "                                               1000 * X_M, \n",
    "                                               0.001 * X_P * (X_P - 1),\n",
    "                                               0.1 * X_M,\n",
    "                                               X_P])\n",
    "\n",
    "vectors = np.array([[1, 0, 0],\n",
    "                    [0, 1, 0],\n",
    "                    [0, -2, 1],\n",
    "                    [-1, 0, 0],\n",
    "                    [0, -1, 0]])"
   ]
  },
  {
   "cell_type": "markdown",
   "metadata": {},
   "source": [
    "## 1. Stochastic Simulation Alglorithm (Exact simulation of chemical reaction model)"
   ]
  },
  {
   "cell_type": "code",
   "execution_count": 173,
   "metadata": {
    "scrolled": false
   },
   "outputs": [],
   "source": [
    "def stochasticSimulationAlgorithem(intial_State = np.array([0, 0, 0]), record_history = False): \n",
    "    '''If record history = True, returns history data frame,\n",
    "       By default it's set False for saving memory, when simulating many paths to calculate mean.\n",
    "    '''\n",
    "    X = np.array(intial_State)\n",
    "    T = 1\n",
    "    t = 0\n",
    "    \n",
    "    reactions_history = []\n",
    "    indexes  = []\n",
    "    \n",
    "    while t < T:\n",
    "        lambdas     = lambdaFuncs(*X)\n",
    "        lambdaTotal = np.sum(lambdas)\n",
    "        U1, U2      = np.random.uniform(size = 2)\n",
    "        t           = t - np.log(U1)/lambdaTotal\n",
    "        lambdaSteps = np.cumsum(lambdas)/lambdaTotal\n",
    "        if t < T:\n",
    "            mask = [n for n, x in enumerate(lambdaSteps) if U2 <= x]\n",
    "            if len(mask) == 0:\n",
    "                continue\n",
    "            else:\n",
    "                reaction_index  = mask[0]\n",
    "                reaction_vector = vectors[reaction_index]\n",
    "                X = X + reaction_vector\n",
    "                if record_history:\n",
    "                    indexes.append((reaction_index + 1, t))\n",
    "                    reactions_history.append(X)\n",
    "    if record_history:          \n",
    "        reactions_history = pd.DataFrame(reactions_history, columns = ['mRNA', 'Protein', 'Dimer'], \n",
    "                                         index = pd.MultiIndex.from_tuples(indexes, names = ('Reaction', 'Time')))\n",
    "        return X, reactions_history\n",
    "    else:\n",
    "        return X, "
   ]
  },
  {
   "cell_type": "markdown",
   "metadata": {},
   "source": [
    "Test of 1 path : Slow, on average a single path takes 0.6s"
   ]
  },
  {
   "cell_type": "code",
   "execution_count": 438,
   "metadata": {},
   "outputs": [
    {
     "name": "stdout",
     "output_type": "stream",
     "text": [
      "CPU times: user 874 ms, sys: 88.9 ms, total: 963 ms\n",
      "Wall time: 882 ms\n"
     ]
    },
    {
     "data": {
      "text/html": [
       "<div>\n",
       "<style scoped>\n",
       "    .dataframe tbody tr th:only-of-type {\n",
       "        vertical-align: middle;\n",
       "    }\n",
       "\n",
       "    .dataframe tbody tr th {\n",
       "        vertical-align: top;\n",
       "    }\n",
       "\n",
       "    .dataframe thead th {\n",
       "        text-align: right;\n",
       "    }\n",
       "</style>\n",
       "<table border=\"1\" class=\"dataframe\">\n",
       "  <thead>\n",
       "    <tr style=\"text-align: right;\">\n",
       "      <th></th>\n",
       "      <th></th>\n",
       "      <th>mRNA</th>\n",
       "      <th>Protein</th>\n",
       "      <th>Dimer</th>\n",
       "    </tr>\n",
       "    <tr>\n",
       "      <th>Reaction</th>\n",
       "      <th>Time</th>\n",
       "      <th></th>\n",
       "      <th></th>\n",
       "      <th></th>\n",
       "    </tr>\n",
       "  </thead>\n",
       "  <tbody>\n",
       "    <tr>\n",
       "      <th>1</th>\n",
       "      <th>0.005204</th>\n",
       "      <td>1</td>\n",
       "      <td>0</td>\n",
       "      <td>0</td>\n",
       "    </tr>\n",
       "    <tr>\n",
       "      <th rowspan=\"7\" valign=\"top\">2</th>\n",
       "      <th>0.008014</th>\n",
       "      <td>1</td>\n",
       "      <td>1</td>\n",
       "      <td>0</td>\n",
       "    </tr>\n",
       "    <tr>\n",
       "      <th>0.010191</th>\n",
       "      <td>1</td>\n",
       "      <td>2</td>\n",
       "      <td>0</td>\n",
       "    </tr>\n",
       "    <tr>\n",
       "      <th>0.012814</th>\n",
       "      <td>1</td>\n",
       "      <td>3</td>\n",
       "      <td>0</td>\n",
       "    </tr>\n",
       "    <tr>\n",
       "      <th>0.012874</th>\n",
       "      <td>1</td>\n",
       "      <td>4</td>\n",
       "      <td>0</td>\n",
       "    </tr>\n",
       "    <tr>\n",
       "      <th>...</th>\n",
       "      <td>...</td>\n",
       "      <td>...</td>\n",
       "      <td>...</td>\n",
       "    </tr>\n",
       "    <tr>\n",
       "      <th>0.999800</th>\n",
       "      <td>26</td>\n",
       "      <td>3335</td>\n",
       "      <td>6212</td>\n",
       "    </tr>\n",
       "    <tr>\n",
       "      <th>0.999808</th>\n",
       "      <td>26</td>\n",
       "      <td>3336</td>\n",
       "      <td>6212</td>\n",
       "    </tr>\n",
       "    <tr>\n",
       "      <th>3</th>\n",
       "      <th>0.999887</th>\n",
       "      <td>26</td>\n",
       "      <td>3334</td>\n",
       "      <td>6213</td>\n",
       "    </tr>\n",
       "    <tr>\n",
       "      <th rowspan=\"2\" valign=\"top\">2</th>\n",
       "      <th>0.999920</th>\n",
       "      <td>26</td>\n",
       "      <td>3335</td>\n",
       "      <td>6213</td>\n",
       "    </tr>\n",
       "    <tr>\n",
       "      <th>0.999971</th>\n",
       "      <td>26</td>\n",
       "      <td>3336</td>\n",
       "      <td>6213</td>\n",
       "    </tr>\n",
       "  </tbody>\n",
       "</table>\n",
       "<p>26697 rows × 3 columns</p>\n",
       "</div>"
      ],
      "text/plain": [
       "                   mRNA  Protein  Dimer\n",
       "Reaction Time                          \n",
       "1        0.005204     1        0      0\n",
       "2        0.008014     1        1      0\n",
       "         0.010191     1        2      0\n",
       "         0.012814     1        3      0\n",
       "         0.012874     1        4      0\n",
       "...                 ...      ...    ...\n",
       "         0.999800    26     3335   6212\n",
       "         0.999808    26     3336   6212\n",
       "3        0.999887    26     3334   6213\n",
       "2        0.999920    26     3335   6213\n",
       "         0.999971    26     3336   6213\n",
       "\n",
       "[26697 rows x 3 columns]"
      ]
     },
     "execution_count": 438,
     "metadata": {},
     "output_type": "execute_result"
    }
   ],
   "source": [
    "%%time\n",
    "\n",
    "test_SSA = stochasticSimulationAlgorithem(record_history = True)\n",
    "test_SSA[1]"
   ]
  },
  {
   "cell_type": "code",
   "execution_count": 439,
   "metadata": {},
   "outputs": [
    {
     "data": {
      "text/plain": [
       "<matplotlib.axes._subplots.AxesSubplot at 0x7fb8d9bc4340>"
      ]
     },
     "execution_count": 439,
     "metadata": {},
     "output_type": "execute_result"
    },
    {
     "data": {
      "image/png": "[encoded data removed]",
      "text/plain": [
       "<Figure size 432x288 with 1 Axes>"
      ]
     },
     "metadata": {
      "needs_background": "light"
     },
     "output_type": "display_data"
    }
   ],
   "source": [
    "(test_SSA[1]).plot()"
   ]
  },
  {
   "cell_type": "markdown",
   "metadata": {},
   "source": [
    "#### MC estimation: with only 1000 paths. (Taking 9 mins!!)"
   ]
  },
  {
   "cell_type": "code",
   "execution_count": 152,
   "metadata": {},
   "outputs": [
    {
     "name": "stdout",
     "output_type": "stream",
     "text": [
      "CPU times: user 9min 17s, sys: 8.36 s, total: 9min 25s\n",
      "Wall time: 9min 22s\n"
     ]
    },
    {
     "data": {
      "text/plain": [
       "(3677.886, 1268627.9630040003)"
      ]
     },
     "execution_count": 152,
     "metadata": {},
     "output_type": "execute_result"
    }
   ],
   "source": [
    "%%time\n",
    "N_paths = 1000\n",
    "Xs      = []\n",
    "\n",
    "for i in range(N_paths):\n",
    "    Xs.append(stochasticSimulationAlgorithem()[0][-1])\n",
    "    \n",
    "np.mean(Xs), np.var(Xs)"
   ]
  },
  {
   "cell_type": "code",
   "execution_count": 160,
   "metadata": {},
   "outputs": [
    {
     "data": {
      "text/plain": [
       "1126.3338594768427"
      ]
     },
     "execution_count": 160,
     "metadata": {},
     "output_type": "execute_result"
    }
   ],
   "source": [
    "np.std(Xs)"
   ]
  },
  {
   "cell_type": "markdown",
   "metadata": {},
   "source": [
    "## 2. Tau-leaping (Forward Euler Scheme)"
   ]
  },
  {
   "cell_type": "markdown",
   "metadata": {},
   "source": [
    "#### (Let's just use numpy to generate poisson distribution first)"
   ]
  },
  {
   "cell_type": "code",
   "execution_count": 232,
   "metadata": {},
   "outputs": [],
   "source": [
    "def tauLeaping(N_steps = 1000):\n",
    "    T = 1\n",
    "    h = T/N_steps\n",
    "    X_tau = np.array([0, 0, 0])\n",
    "    history = []\n",
    "    for i in range(N_steps):\n",
    "        lambdas  = lambdaFuncs(*X_tau)\n",
    "        poissons = np.random.poisson(lambdas * h)\n",
    "        X_tau    = X_tau + vectors.T.dot(poissons)\n",
    "    return X_tau"
   ]
  },
  {
   "cell_type": "markdown",
   "metadata": {},
   "source": [
    "#### MonteCarlo simulation"
   ]
  },
  {
   "cell_type": "code",
   "execution_count": 233,
   "metadata": {},
   "outputs": [
    {
     "name": "stdout",
     "output_type": "stream",
     "text": [
      "CPU times: user 25.1 s, sys: 106 ms, total: 25.2 s\n",
      "Wall time: 25.3 s\n"
     ]
    }
   ],
   "source": [
    "%%time\n",
    "N_paths       = 1000\n",
    "Xs_tauLeaping = []\n",
    "\n",
    "for i in range(N_paths):\n",
    "    Xs_tauLeaping.append(tauLeaping())"
   ]
  },
  {
   "cell_type": "code",
   "execution_count": 238,
   "metadata": {
    "scrolled": false
   },
   "outputs": [
    {
     "data": {
      "text/plain": [
       "(3717.945, 1049.9486501610447)"
      ]
     },
     "execution_count": 238,
     "metadata": {},
     "output_type": "execute_result"
    }
   ],
   "source": [
    "Xs_tauLeaping = np.array(Xs_tauLeaping)\n",
    "Xs_tauLeaping[:, 2].mean(), Xs_tauLeaping[:, 2].std()"
   ]
  },
  {
   "cell_type": "markdown",
   "metadata": {},
   "source": [
    "Comparison of SSA v.s. tau-leaping: to reach a same level of std, tau-leaping is much faster"
   ]
  },
  {
   "cell_type": "markdown",
   "metadata": {},
   "source": [
    "## $3^*$. MLMC method"
   ]
  },
  {
   "cell_type": "code",
   "execution_count": 444,
   "metadata": {},
   "outputs": [],
   "source": [
    "def computeOneLevelOneSample(level, M = 3):\n",
    "    X_initial = np.array([0, 0, 0])\n",
    "    Nf    = M**level\n",
    "    T     = 1\n",
    "    h     = T/Nf\n",
    "    Xf    = X_initial\n",
    "    Xc    = X_initial\n",
    "\n",
    "    for n in range(Nf):\n",
    "        lambdas_f = lambdaFuncs(*Xf)\n",
    "        if n % M == 0:\n",
    "            lambdas_c = lambdaFuncs(*Xc)\n",
    "        lambdas_min = lambdas_f * (lambdas_f < lambdas_c) + lambdas_c * (lambdas_f >= lambdas_c)\n",
    "        R1 = np.random.poisson(lambdas_min * h)\n",
    "        R2 = np.random.poisson(np.abs(lambdas_f - lambdas_c) * h)\n",
    "        Xf = Xf + vectors.T.dot(R1 + R2 * (lambdas_f > lambdas_c))\n",
    "        Xc = Xc + vectors.T.dot(R1 + R2 * (lambdas_c > lambdas_f))\n",
    "    return Xf[-1], Xc[-1], (Xf - Xc)[-1]"
   ]
  },
  {
   "cell_type": "code",
   "execution_count": 445,
   "metadata": {},
   "outputs": [],
   "source": [
    "def simulateOneLevel(level, M = 3):\n",
    "    # if level = l_0, we need the first output Xf_average, otherwise only diff is needed\n",
    "    N_l = M**(level)\n",
    "    Xf_sum  = 0\n",
    "    Xc_sum  = 0\n",
    "    diff_sum = 0\n",
    "    for i in range(N_l):\n",
    "        Xf, Xc, fine_coarse_diff = computeOneLevelOneSample(level, M)    \n",
    "        Xf_sum += Xf\n",
    "        Xc_sum += Xc\n",
    "        diff_sum += fine_coarse_diff\n",
    "    return Xf_sum/N_l, Xc_sum/N_l, diff_sum/N_l "
   ]
  },
  {
   "cell_type": "code",
   "execution_count": 446,
   "metadata": {},
   "outputs": [
    {
     "data": {
      "text/plain": [
       "array([5, 6, 7, 8, 9])"
      ]
     },
     "execution_count": 446,
     "metadata": {},
     "output_type": "execute_result"
    }
   ],
   "source": [
    "np.arange(5, 10, 1)"
   ]
  },
  {
   "cell_type": "code",
   "execution_count": 447,
   "metadata": {},
   "outputs": [],
   "source": [
    "def simulateMultiLevels_OneEstimator(starting_level = 2, max_level = 5, M = 3):\n",
    "    X = simulateOneLevel(starting_level, M)[0]\n",
    "    rangeOfLevels = np.arange(starting_level + 1, max_level + 1, 1)\n",
    "    for level in rangeOfLevels:\n",
    "        X = X + simulateOneLevel(level, M)[-1]\n",
    "    return X"
   ]
  },
  {
   "cell_type": "code",
   "execution_count": 450,
   "metadata": {
    "scrolled": true
   },
   "outputs": [
    {
     "name": "stdout",
     "output_type": "stream",
     "text": [
      "CPU times: user 3.42 s, sys: 6.32 ms, total: 3.43 s\n",
      "Wall time: 3.43 s\n"
     ]
    }
   ],
   "source": [
    "%%time\n",
    "X_D_mlmc = simulateMultiLevels_OneEstimator(max_level = 5)"
   ]
  },
  {
   "cell_type": "code",
   "execution_count": 451,
   "metadata": {},
   "outputs": [
    {
     "data": {
      "text/plain": [
       "4001.086419753086"
      ]
     },
     "execution_count": 451,
     "metadata": {},
     "output_type": "execute_result"
    }
   ],
   "source": [
    "X_D_mlmc"
   ]
  },
  {
   "cell_type": "markdown",
   "metadata": {},
   "source": [
    "#### Variance of MLMC estimator: A significant decrease, even when N_estimators = 100"
   ]
  },
  {
   "cell_type": "code",
   "execution_count": 452,
   "metadata": {},
   "outputs": [
    {
     "data": {
      "text/plain": [
       "(3674.7401234567897, 306.0355378935885)"
      ]
     },
     "execution_count": 452,
     "metadata": {},
     "output_type": "execute_result"
    }
   ],
   "source": [
    "mlmc_estims = []\n",
    "\n",
    "N_estimators = 100\n",
    "for n in range(N_estimators):\n",
    "    X_mlmc = simulateMultiLevels_OneEstimator(max_level = 5)\n",
    "    mlmc_estims.append(X_mlmc)\n",
    "\n",
    "np.mean(mlmc_estims), np.std(mlmc_estims)"
   ]
  }
 ],
 "metadata": {
  "kernelspec": {
   "display_name": "Python 3",
   "language": "python",
   "name": "python3"
  },
  "language_info": {
   "codemirror_mode": {
    "name": "ipython",
    "version": 3
   },
   "file_extension": ".py",
   "mimetype": "text/x-python",
   "name": "python",
   "nbconvert_exporter": "python",
   "pygments_lexer": "ipython3",
   "version": "3.8.3"
  }
 },
 "nbformat": 4,
 "nbformat_minor": 4
}
